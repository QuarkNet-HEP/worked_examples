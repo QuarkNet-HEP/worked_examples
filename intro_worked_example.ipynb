{
 "cells": [
  {
   "cell_type": "markdown",
   "metadata": {
    "id": "gFcsa6oKKgGt"
   },
   "source": [
    "Click \"Copy to Drive\" (above &#8593;) or go to **File > Save a Copy in Drive** so you'll have your own version to work on. That requires a Google login. If you want to start over from scratch, open the [original activity here](https://colab.research.google.com/github/QuarkNet-HEP/coding-camp/blob/master/intro.ipynb).  \n",
    "\n",
    "# Intro To Coding\n",
    "\n",
    "In this activity you will learn to:  \n",
    "- run and edit Python code\n",
    "- read comments in Python\n",
    "- run code in order\n",
    "- import software modules  \n",
    "\n",
    "<hr/>\n",
    "\n",
    "# Part 1: Running Python code  \n",
    "There are two ways to run the code below:\n",
    "- press SHIFT and ENTER at the same time\n",
    "- click on the play button (&#9658;) to the left of the code  \n",
    "\n",
    "Click \"run anyway\" on the popup window. It happens the first time you run this code telling you it loads from GitHub (it's totally safe, that's why we use it). \n",
    "\n",
    "Run each block of code to see what it does. Look for hidden messages, too. They're called *comments* and they start with #."
   ]
  },
  {
   "cell_type": "code",
   "execution_count": 1,
   "metadata": {
    "colab": {
     "base_uri": "https://localhost:8080/"
    },
    "id": "UTkmNnoadCOR",
    "outputId": "87c8b390-f5eb-4e65-dbf3-9bed9bb3ef27"
   },
   "outputs": [
    {
     "data": {
      "text/plain": [
       "3"
      ]
     },
     "execution_count": 1,
     "metadata": {},
     "output_type": "execute_result"
    }
   ],
   "source": [
    "1+2     # run this block of code to see the answer to 1+1"
   ]
  },
  {
   "cell_type": "code",
   "execution_count": 2,
   "metadata": {
    "colab": {
     "base_uri": "https://localhost:8080/"
    },
    "id": "Zra5XaIuFxXx",
    "outputId": "cf40fe73-20ef-48c4-a3eb-0e78a948aa01"
   },
   "outputs": [
    {
     "data": {
      "text/plain": [
       "2.0"
      ]
     },
     "execution_count": 2,
     "metadata": {},
     "output_type": "execute_result"
    }
   ],
   "source": [
    "10/5    # Python is a coding language that can do math. Yay!"
   ]
  },
  {
   "cell_type": "code",
   "execution_count": 3,
   "metadata": {
    "id": "a08YbU6KF5jS"
   },
   "outputs": [
    {
     "data": {
      "text/plain": [
       "20"
      ]
     },
     "execution_count": 3,
     "metadata": {},
     "output_type": "execute_result"
    }
   ],
   "source": [
    "# This is a comment. Python doesn't read lines that start with #\n",
    "\n",
    "4*5   # a comment can come after code on the same line, too"
   ]
  },
  {
   "cell_type": "markdown",
   "metadata": {
    "id": "akBt4UjuF_Cd"
   },
   "source": [
    "**Challenge**  \n",
    "- Try to edit the code above to solve a different math problem, like **4 times 5**. You'll have to run the block of code again to see the new answer.  \n",
    "\n",
    "<hr/>\n",
    "\n",
    "# Part 2: Order is everything \n",
    "A program works in a sequence. Running code out of order often won't work.\n"
   ]
  },
  {
   "cell_type": "code",
   "execution_count": 4,
   "metadata": {
    "id": "2DiPkRuSF7Nl"
   },
   "outputs": [
    {
     "data": {
      "text/plain": [
       "10"
      ]
     },
     "execution_count": 4,
     "metadata": {},
     "output_type": "execute_result"
    }
   ],
   "source": [
    "a = 5   # this line creates a variable called \"a\" and sets it equal to 5\n",
    "a*2     # this line multiplies a times 2. If a=5, then we should get 10 below for the answer"
   ]
  },
  {
   "cell_type": "code",
   "execution_count": 6,
   "metadata": {
    "id": "dsAvgo1SGOpS"
   },
   "outputs": [
    {
     "data": {
      "text/plain": [
       "6"
      ]
     },
     "execution_count": 6,
     "metadata": {},
     "output_type": "execute_result"
    }
   ],
   "source": [
    "2*b # we didn't tell the program what b equals, so this gives an error"
   ]
  },
  {
   "cell_type": "code",
   "execution_count": 5,
   "metadata": {
    "id": "uzVo9uLKGQJ_"
   },
   "outputs": [],
   "source": [
    "b=3 # running this code will tell the program what b equals. Then, try running the block of code above again."
   ]
  },
  {
   "cell_type": "code",
   "execution_count": 7,
   "metadata": {},
   "outputs": [
    {
     "data": {
      "text/plain": [
       "15"
      ]
     },
     "execution_count": 7,
     "metadata": {},
     "output_type": "execute_result"
    }
   ],
   "source": [
    "a*b"
   ]
  },
  {
   "cell_type": "code",
   "execution_count": 8,
   "metadata": {},
   "outputs": [
    {
     "data": {
      "text/plain": [
       "10.0"
      ]
     },
     "execution_count": 8,
     "metadata": {},
     "output_type": "execute_result"
    }
   ],
   "source": [
    "m=2\n",
    "a=5\n",
    "F=m*a/4*(2**2)\n",
    "F"
   ]
  },
  {
   "cell_type": "markdown",
   "metadata": {
    "id": "78-GOO5SGU6J"
   },
   "source": [
    "**Challenge**\n",
    "- Write a math problem using only variables, no numbers, like **a times b**.  \n",
    "- Write a math problem using +, -, *, /, and (  ).\n",
    "- Create another variable and multiply it by **a**.  \n",
    "\n",
    "<hr/>\n",
    "\n",
    "# Part 3: Importing modules  \n",
    "The Python language can do some math by itself. To do more complex tasks, we have to import other software called *modules*."
   ]
  },
  {
   "cell_type": "code",
   "execution_count": 9,
   "metadata": {
    "id": "3w5FcXQwGSSF"
   },
   "outputs": [],
   "source": [
    "# numpy is a module to let you do numerical operations in Python\n",
    "import numpy"
   ]
  },
  {
   "cell_type": "code",
   "execution_count": 10,
   "metadata": {
    "id": "SUN5b606GfGK"
   },
   "outputs": [
    {
     "data": {
      "text/plain": [
       "3.0"
      ]
     },
     "execution_count": 10,
     "metadata": {},
     "output_type": "execute_result"
    }
   ],
   "source": [
    "# numpy has a function called \"sqrt\" that calculates the square root of a number\n",
    "numpy.sqrt(9)   # what's the square root of 9?"
   ]
  },
  {
   "cell_type": "code",
   "execution_count": 11,
   "metadata": {
    "id": "9MUd-bIPGsIp"
   },
   "outputs": [
    {
     "data": {
      "text/plain": [
       "2.0"
      ]
     },
     "execution_count": 11,
     "metadata": {},
     "output_type": "execute_result"
    }
   ],
   "source": [
    "# you can give modules a nickame when you import them, too\n",
    "\n",
    "import numpy as np   # now you can type \"np\" instead of \"numpy\"\n",
    "np.sqrt(4)           # what's the square root of 4?"
   ]
  },
  {
   "cell_type": "code",
   "execution_count": 12,
   "metadata": {
    "id": "kLSGKEt-G3-L"
   },
   "outputs": [
    {
     "data": {
      "image/png": "[encoded data removed]",
      "text/plain": [
       "<Figure size 432x288 with 1 Axes>"
      ]
     },
     "metadata": {
      "needs_background": "light"
     },
     "output_type": "display_data"
    }
   ],
   "source": [
    "# some modules have long names, so a nickname is handy\n",
    "\n",
    "import matplotlib.pyplot as plt         # \"plt\" is much shorter\n",
    "plt.scatter([1,2,3,4,5], [0,1,3,4,2], color='green', edgecolor='black');   # this makes a scatterplot!"
   ]
  },
  {
   "cell_type": "code",
   "execution_count": 13,
   "metadata": {},
   "outputs": [
    {
     "data": {
      "text/plain": [
       "3.0"
      ]
     },
     "execution_count": 13,
     "metadata": {},
     "output_type": "execute_result"
    }
   ],
   "source": [
    "np.round(3.14159)"
   ]
  },
  {
   "cell_type": "markdown",
   "metadata": {
    "id": "297F-IZ3SbJX"
   },
   "source": [
    "**Challenge**\n",
    "- Change the colors of the graph to green and black.\n",
    "- Numpy has a function called *round* that will round a decimal number. Try using it like you used the *sqrt* function.  \n",
    "\n",
    "# Part 4: Markdown  \n",
    "The text in this notebook that isn't code, like this sentence, is called *markdown*. You can double-click on this text to see the markdown code underneath. Like usual, press SHIFT+ENTER to turn the markdown code into pretty, formatted text again. Markdown lets us write text with formatting like:  \n",
    "- bullet lists  \n",
    "- *italics*  \n",
    "- **bold** text\n",
    "- section headings  \n",
    "- [links](https://xkcd.com/665/)\n",
    "- images  \n",
    "\n",
    "![cute kitten](https://github.com/adamlamee/CODINGinK12/raw/master/notebooks/1dayoldkitten.png) \n",
    "\n",
    "**Challenge**\n",
    "- Make this sentence bold.  \n",
    "- Make this sentence in italics.  \n",
    "- Add a 4th bullet point below this one   \n",
    "\n",
    "# Self-Check  \n",
    "- Were you able to run the Python code? For example, could you add or multiply numbers and see the answer?  \n",
    "- Could you edit the code to produce different output?\n",
    "- Did you find the comments? They start with # and are messages to people reading the code.\n",
    "- Can you explain what's wrong with running \"c=2\" then \"c+d\"?\n",
    "- Can you name two Python software modules? Hint: you imported them.  \n",
    "- Could you edit a markdown cell and do some formatting, like a bulleted list, **bold**, or *italics*?  \n",
    "\n",
    "<hr/>  \n",
    "\n",
    "# Credits\n",
    "This notebook was written by [Adam LaMee](http://www.adamlamee.com). For license and more information visit [CODINGinK12.org](http://www.codingink12.org)."
   ]
  }
 ],
 "metadata": {
  "colab": {
   "collapsed_sections": [],
   "name": "0_Intro",
   "provenance": []
  },
  "kernelspec": {
   "display_name": "Python 3 (ipykernel)",
   "language": "python",
   "name": "python3"
  },
  "language_info": {
   "codemirror_mode": {
    "name": "ipython",
    "version": 3
   },
   "file_extension": ".py",
   "mimetype": "text/x-python",
   "name": "python",
   "nbconvert_exporter": "python",
   "pygments_lexer": "ipython3",
   "version": "3.9.7"
  }
 },
 "nbformat": 4,
 "nbformat_minor": 1
}
